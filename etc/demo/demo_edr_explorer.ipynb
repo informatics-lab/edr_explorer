{
 "cells": [
  {
   "cell_type": "markdown",
   "id": "58a32acb-fd66-4f2a-9310-64cb6ea1fbb8",
   "metadata": {},
   "source": [
    "# Demoing the EDR Explorer"
   ]
  },
  {
   "cell_type": "code",
   "execution_count": null,
   "id": "212dda55-122d-4929-8cdb-3e23817294d4",
   "metadata": {},
   "outputs": [],
   "source": [
    "import panel as pn\n",
    "\n",
    "import edr_explorer"
   ]
  },
  {
   "cell_type": "code",
   "execution_count": null,
   "id": "cf74d2c2-1893-48b1-8e2f-8cf92b785d83",
   "metadata": {},
   "outputs": [],
   "source": [
    "pn.extension()"
   ]
  },
  {
   "cell_type": "code",
   "execution_count": null,
   "id": "b029c890-cc30-4fcd-92a0-e9816a81805c",
   "metadata": {},
   "outputs": [],
   "source": [
    "# host = \"http://localhost:8000\"\n",
    "host = \"http://localhost:8808\""
   ]
  },
  {
   "cell_type": "code",
   "execution_count": null,
   "id": "673a66b9-bc9b-4799-8856-fc689491b77f",
   "metadata": {},
   "outputs": [],
   "source": [
    "explorer = edr_explorer.EDRExplorer(host)\n",
    "explorer.layout"
   ]
  },
  {
   "cell_type": "code",
   "execution_count": null,
   "id": "0a1563b2-169a-4e79-ae14-db721c1692b3",
   "metadata": {},
   "outputs": [],
   "source": [
    "# explorer.cmap = \"plasma\"\n",
    "# explorer.alpha = 0.5"
   ]
  },
  {
   "cell_type": "code",
   "execution_count": null,
   "id": "c87f5060-9825-4325-ac42-149e1d525655",
   "metadata": {
    "tags": []
   },
   "outputs": [],
   "source": [
    "# explorer.edr_interface.collections"
   ]
  },
  {
   "cell_type": "code",
   "execution_count": null,
   "id": "4a376387-6c77-4c82-a48f-ca1a945b4540",
   "metadata": {},
   "outputs": [],
   "source": [
    "# explorer.edr_interface._get_locations_json(explorer.edr_interface.collection_ids[0])"
   ]
  },
  {
   "cell_type": "code",
   "execution_count": null,
   "id": "2eea5013-0d22-41ea-a0eb-1105e40c71e4",
   "metadata": {},
   "outputs": [],
   "source": [
    "# explorer.edr_interface.data_handler.data_json"
   ]
  },
  {
   "cell_type": "code",
   "execution_count": null,
   "id": "512e72d6-b776-489e-b30f-8e666185e1fd",
   "metadata": {},
   "outputs": [],
   "source": [
    "# explorer.dataset"
   ]
  },
  {
   "cell_type": "code",
   "execution_count": null,
   "id": "6d0d52f7-4829-4a37-82f1-cf70d52a9f64",
   "metadata": {},
   "outputs": [],
   "source": []
  }
 ],
 "metadata": {
  "kernelspec": {
   "display_name": "Python 3 (ipykernel)",
   "language": "python",
   "name": "python3"
  },
  "language_info": {
   "codemirror_mode": {
    "name": "ipython",
    "version": 3
   },
   "file_extension": ".py",
   "mimetype": "text/x-python",
   "name": "python",
   "nbconvert_exporter": "python",
   "pygments_lexer": "ipython3",
   "version": "3.8.12"
  }
 },
 "nbformat": 4,
 "nbformat_minor": 5
}
